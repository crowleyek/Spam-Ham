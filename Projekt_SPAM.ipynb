{
 "cells": [
  {
   "cell_type": "code",
   "execution_count": 1,
   "metadata": {},
   "outputs": [],
   "source": [
    "import pandas as pd\n",
    "import seaborn as sns\n",
    "import matplotlib.pyplot as plt\n",
    "import numpy as np\n",
    "import nltk\n",
    "from nltk.tokenize import word_tokenize\n",
    "from nltk.corpus import stopwords \n",
    "from stop_words import get_stop_words"
   ]
  },
  {
   "cell_type": "code",
   "execution_count": 2,
   "metadata": {},
   "outputs": [],
   "source": [
    "df1 = pd.read_csv(\"spam_ham_dataset.csv\")"
   ]
  },
  {
   "cell_type": "code",
   "execution_count": 12,
   "metadata": {},
   "outputs": [
    {
     "data": {
      "text/html": [
       "<div>\n",
       "<style scoped>\n",
       "    .dataframe tbody tr th:only-of-type {\n",
       "        vertical-align: middle;\n",
       "    }\n",
       "\n",
       "    .dataframe tbody tr th {\n",
       "        vertical-align: top;\n",
       "    }\n",
       "\n",
       "    .dataframe thead th {\n",
       "        text-align: right;\n",
       "    }\n",
       "</style>\n",
       "<table border=\"1\" class=\"dataframe\">\n",
       "  <thead>\n",
       "    <tr style=\"text-align: right;\">\n",
       "      <th></th>\n",
       "      <th>text</th>\n",
       "      <th>label_num</th>\n",
       "    </tr>\n",
       "  </thead>\n",
       "  <tbody>\n",
       "    <tr>\n",
       "      <th>0</th>\n",
       "      <td>nron methanol ; meter # : 988291\\r\\nthis is a ...</td>\n",
       "      <td>0</td>\n",
       "    </tr>\n",
       "    <tr>\n",
       "      <th>1</th>\n",
       "      <td>pl nom for january 9 , 2001\\r\\n( see attached ...</td>\n",
       "      <td>0</td>\n",
       "    </tr>\n",
       "    <tr>\n",
       "      <th>2</th>\n",
       "      <td>eon retreat\\r\\nho ho ho , we ' re around to th...</td>\n",
       "      <td>0</td>\n",
       "    </tr>\n",
       "    <tr>\n",
       "      <th>3</th>\n",
       "      <td>hotoshop , windows , office . cheap . main tre...</td>\n",
       "      <td>1</td>\n",
       "    </tr>\n",
       "    <tr>\n",
       "      <th>4</th>\n",
       "      <td>e : indian springs\\r\\nthis deal is to book the...</td>\n",
       "      <td>0</td>\n",
       "    </tr>\n",
       "  </tbody>\n",
       "</table>\n",
       "</div>"
      ],
      "text/plain": [
       "                                                text  label_num\n",
       "0  nron methanol ; meter # : 988291\\r\\nthis is a ...          0\n",
       "1  pl nom for january 9 , 2001\\r\\n( see attached ...          0\n",
       "2  eon retreat\\r\\nho ho ho , we ' re around to th...          0\n",
       "3  hotoshop , windows , office . cheap . main tre...          1\n",
       "4  e : indian springs\\r\\nthis deal is to book the...          0"
      ]
     },
     "execution_count": 12,
     "metadata": {},
     "output_type": "execute_result"
    }
   ],
   "source": [
    "df1.head()"
   ]
  },
  {
   "cell_type": "code",
   "execution_count": 3,
   "metadata": {},
   "outputs": [],
   "source": [
    "df3 = pd.read_csv(\"spam.csv\",encoding=\"ISO-8859-1\")"
   ]
  },
  {
   "cell_type": "code",
   "execution_count": 14,
   "metadata": {},
   "outputs": [
    {
     "data": {
      "text/html": [
       "<div>\n",
       "<style scoped>\n",
       "    .dataframe tbody tr th:only-of-type {\n",
       "        vertical-align: middle;\n",
       "    }\n",
       "\n",
       "    .dataframe tbody tr th {\n",
       "        vertical-align: top;\n",
       "    }\n",
       "\n",
       "    .dataframe thead th {\n",
       "        text-align: right;\n",
       "    }\n",
       "</style>\n",
       "<table border=\"1\" class=\"dataframe\">\n",
       "  <thead>\n",
       "    <tr style=\"text-align: right;\">\n",
       "      <th></th>\n",
       "      <th>text</th>\n",
       "      <th>label_num</th>\n",
       "    </tr>\n",
       "  </thead>\n",
       "  <tbody>\n",
       "    <tr>\n",
       "      <th>2</th>\n",
       "      <td>Free entry in 2 a wkly comp to win FA Cup fina...</td>\n",
       "      <td>1</td>\n",
       "    </tr>\n",
       "    <tr>\n",
       "      <th>5</th>\n",
       "      <td>FreeMsg Hey there darling it's been 3 week's n...</td>\n",
       "      <td>1</td>\n",
       "    </tr>\n",
       "    <tr>\n",
       "      <th>8</th>\n",
       "      <td>WINNER!! As a valued network customer you have...</td>\n",
       "      <td>1</td>\n",
       "    </tr>\n",
       "    <tr>\n",
       "      <th>9</th>\n",
       "      <td>Had your mobile 11 months or more? U R entitle...</td>\n",
       "      <td>1</td>\n",
       "    </tr>\n",
       "    <tr>\n",
       "      <th>11</th>\n",
       "      <td>SIX chances to win CASH! From 100 to 20,000 po...</td>\n",
       "      <td>1</td>\n",
       "    </tr>\n",
       "  </tbody>\n",
       "</table>\n",
       "</div>"
      ],
      "text/plain": [
       "                                                 text  label_num\n",
       "2   Free entry in 2 a wkly comp to win FA Cup fina...          1\n",
       "5   FreeMsg Hey there darling it's been 3 week's n...          1\n",
       "8   WINNER!! As a valued network customer you have...          1\n",
       "9   Had your mobile 11 months or more? U R entitle...          1\n",
       "11  SIX chances to win CASH! From 100 to 20,000 po...          1"
      ]
     },
     "execution_count": 14,
     "metadata": {},
     "output_type": "execute_result"
    }
   ],
   "source": [
    "df3.head()"
   ]
  },
  {
   "cell_type": "markdown",
   "metadata": {},
   "source": [
    "### Data cleaning"
   ]
  },
  {
   "cell_type": "code",
   "execution_count": 4,
   "metadata": {},
   "outputs": [],
   "source": [
    "df1.drop(['Unnamed: 0', \"label\"], axis=1, inplace = True)"
   ]
  },
  {
   "cell_type": "code",
   "execution_count": 5,
   "metadata": {},
   "outputs": [],
   "source": [
    "df1[\"text\"] = df1[\"text\"].apply(lambda x: x[10:])"
   ]
  },
  {
   "cell_type": "code",
   "execution_count": 6,
   "metadata": {},
   "outputs": [],
   "source": [
    "df3.drop([\"Unnamed: 2\",\"Unnamed: 3\",\"Unnamed: 4\"], axis = 1, inplace = True)"
   ]
  },
  {
   "cell_type": "code",
   "execution_count": 7,
   "metadata": {},
   "outputs": [],
   "source": [
    "df3 = df3[[\"v2\", \"v1\"]]"
   ]
  },
  {
   "cell_type": "code",
   "execution_count": 8,
   "metadata": {},
   "outputs": [],
   "source": [
    "df3.rename(columns = {\"v2\":\"text\", \"v1\":\"label_num\"}, inplace = True)"
   ]
  },
  {
   "cell_type": "code",
   "execution_count": 9,
   "metadata": {},
   "outputs": [],
   "source": [
    "df3[\"label_num\"].replace({\"ham\":0, \"spam\": 1}, inplace = True)"
   ]
  },
  {
   "cell_type": "code",
   "execution_count": 10,
   "metadata": {},
   "outputs": [],
   "source": [
    "df3 = df3[df3[\"label_num\"] == 1]"
   ]
  },
  {
   "cell_type": "code",
   "execution_count": 13,
   "metadata": {},
   "outputs": [
    {
     "data": {
      "text/html": [
       "<div>\n",
       "<style scoped>\n",
       "    .dataframe tbody tr th:only-of-type {\n",
       "        vertical-align: middle;\n",
       "    }\n",
       "\n",
       "    .dataframe tbody tr th {\n",
       "        vertical-align: top;\n",
       "    }\n",
       "\n",
       "    .dataframe thead th {\n",
       "        text-align: right;\n",
       "    }\n",
       "</style>\n",
       "<table border=\"1\" class=\"dataframe\">\n",
       "  <thead>\n",
       "    <tr style=\"text-align: right;\">\n",
       "      <th></th>\n",
       "      <th>text</th>\n",
       "      <th>label_num</th>\n",
       "    </tr>\n",
       "  </thead>\n",
       "  <tbody>\n",
       "    <tr>\n",
       "      <th>2</th>\n",
       "      <td>Free entry in 2 a wkly comp to win FA Cup fina...</td>\n",
       "      <td>1</td>\n",
       "    </tr>\n",
       "    <tr>\n",
       "      <th>5</th>\n",
       "      <td>FreeMsg Hey there darling it's been 3 week's n...</td>\n",
       "      <td>1</td>\n",
       "    </tr>\n",
       "    <tr>\n",
       "      <th>8</th>\n",
       "      <td>WINNER!! As a valued network customer you have...</td>\n",
       "      <td>1</td>\n",
       "    </tr>\n",
       "    <tr>\n",
       "      <th>9</th>\n",
       "      <td>Had your mobile 11 months or more? U R entitle...</td>\n",
       "      <td>1</td>\n",
       "    </tr>\n",
       "    <tr>\n",
       "      <th>11</th>\n",
       "      <td>SIX chances to win CASH! From 100 to 20,000 po...</td>\n",
       "      <td>1</td>\n",
       "    </tr>\n",
       "    <tr>\n",
       "      <th>...</th>\n",
       "      <td>...</td>\n",
       "      <td>...</td>\n",
       "    </tr>\n",
       "    <tr>\n",
       "      <th>5537</th>\n",
       "      <td>Want explicit SEX in 30 secs? Ring 02073162414...</td>\n",
       "      <td>1</td>\n",
       "    </tr>\n",
       "    <tr>\n",
       "      <th>5540</th>\n",
       "      <td>ASKED 3MOBILE IF 0870 CHATLINES INCLU IN FREE ...</td>\n",
       "      <td>1</td>\n",
       "    </tr>\n",
       "    <tr>\n",
       "      <th>5547</th>\n",
       "      <td>Had your contract mobile 11 Mnths? Latest Moto...</td>\n",
       "      <td>1</td>\n",
       "    </tr>\n",
       "    <tr>\n",
       "      <th>5566</th>\n",
       "      <td>REMINDER FROM O2: To get 2.50 pounds free call...</td>\n",
       "      <td>1</td>\n",
       "    </tr>\n",
       "    <tr>\n",
       "      <th>5567</th>\n",
       "      <td>This is the 2nd time we have tried 2 contact u...</td>\n",
       "      <td>1</td>\n",
       "    </tr>\n",
       "  </tbody>\n",
       "</table>\n",
       "<p>747 rows × 2 columns</p>\n",
       "</div>"
      ],
      "text/plain": [
       "                                                   text  label_num\n",
       "2     Free entry in 2 a wkly comp to win FA Cup fina...          1\n",
       "5     FreeMsg Hey there darling it's been 3 week's n...          1\n",
       "8     WINNER!! As a valued network customer you have...          1\n",
       "9     Had your mobile 11 months or more? U R entitle...          1\n",
       "11    SIX chances to win CASH! From 100 to 20,000 po...          1\n",
       "...                                                 ...        ...\n",
       "5537  Want explicit SEX in 30 secs? Ring 02073162414...          1\n",
       "5540  ASKED 3MOBILE IF 0870 CHATLINES INCLU IN FREE ...          1\n",
       "5547  Had your contract mobile 11 Mnths? Latest Moto...          1\n",
       "5566  REMINDER FROM O2: To get 2.50 pounds free call...          1\n",
       "5567  This is the 2nd time we have tried 2 contact u...          1\n",
       "\n",
       "[747 rows x 2 columns]"
      ]
     },
     "execution_count": 13,
     "metadata": {},
     "output_type": "execute_result"
    }
   ],
   "source": [
    "df3"
   ]
  },
  {
   "cell_type": "code",
   "execution_count": 14,
   "metadata": {},
   "outputs": [],
   "source": [
    "df = pd.concat([df1,df3], ignore_index=True)"
   ]
  },
  {
   "cell_type": "code",
   "execution_count": 15,
   "metadata": {},
   "outputs": [
    {
     "data": {
      "text/html": [
       "<div>\n",
       "<style scoped>\n",
       "    .dataframe tbody tr th:only-of-type {\n",
       "        vertical-align: middle;\n",
       "    }\n",
       "\n",
       "    .dataframe tbody tr th {\n",
       "        vertical-align: top;\n",
       "    }\n",
       "\n",
       "    .dataframe thead th {\n",
       "        text-align: right;\n",
       "    }\n",
       "</style>\n",
       "<table border=\"1\" class=\"dataframe\">\n",
       "  <thead>\n",
       "    <tr style=\"text-align: right;\">\n",
       "      <th></th>\n",
       "      <th>text</th>\n",
       "      <th>label_num</th>\n",
       "    </tr>\n",
       "  </thead>\n",
       "  <tbody>\n",
       "    <tr>\n",
       "      <th>0</th>\n",
       "      <td>nron methanol ; meter # : 988291\\r\\nthis is a ...</td>\n",
       "      <td>0</td>\n",
       "    </tr>\n",
       "    <tr>\n",
       "      <th>1</th>\n",
       "      <td>pl nom for january 9 , 2001\\r\\n( see attached ...</td>\n",
       "      <td>0</td>\n",
       "    </tr>\n",
       "    <tr>\n",
       "      <th>2</th>\n",
       "      <td>eon retreat\\r\\nho ho ho , we ' re around to th...</td>\n",
       "      <td>0</td>\n",
       "    </tr>\n",
       "    <tr>\n",
       "      <th>3</th>\n",
       "      <td>hotoshop , windows , office . cheap . main tre...</td>\n",
       "      <td>1</td>\n",
       "    </tr>\n",
       "    <tr>\n",
       "      <th>4</th>\n",
       "      <td>e : indian springs\\r\\nthis deal is to book the...</td>\n",
       "      <td>0</td>\n",
       "    </tr>\n",
       "    <tr>\n",
       "      <th>...</th>\n",
       "      <td>...</td>\n",
       "      <td>...</td>\n",
       "    </tr>\n",
       "    <tr>\n",
       "      <th>5913</th>\n",
       "      <td>Want explicit SEX in 30 secs? Ring 02073162414...</td>\n",
       "      <td>1</td>\n",
       "    </tr>\n",
       "    <tr>\n",
       "      <th>5914</th>\n",
       "      <td>ASKED 3MOBILE IF 0870 CHATLINES INCLU IN FREE ...</td>\n",
       "      <td>1</td>\n",
       "    </tr>\n",
       "    <tr>\n",
       "      <th>5915</th>\n",
       "      <td>Had your contract mobile 11 Mnths? Latest Moto...</td>\n",
       "      <td>1</td>\n",
       "    </tr>\n",
       "    <tr>\n",
       "      <th>5916</th>\n",
       "      <td>REMINDER FROM O2: To get 2.50 pounds free call...</td>\n",
       "      <td>1</td>\n",
       "    </tr>\n",
       "    <tr>\n",
       "      <th>5917</th>\n",
       "      <td>This is the 2nd time we have tried 2 contact u...</td>\n",
       "      <td>1</td>\n",
       "    </tr>\n",
       "  </tbody>\n",
       "</table>\n",
       "<p>5918 rows × 2 columns</p>\n",
       "</div>"
      ],
      "text/plain": [
       "                                                   text  label_num\n",
       "0     nron methanol ; meter # : 988291\\r\\nthis is a ...          0\n",
       "1     pl nom for january 9 , 2001\\r\\n( see attached ...          0\n",
       "2     eon retreat\\r\\nho ho ho , we ' re around to th...          0\n",
       "3     hotoshop , windows , office . cheap . main tre...          1\n",
       "4     e : indian springs\\r\\nthis deal is to book the...          0\n",
       "...                                                 ...        ...\n",
       "5913  Want explicit SEX in 30 secs? Ring 02073162414...          1\n",
       "5914  ASKED 3MOBILE IF 0870 CHATLINES INCLU IN FREE ...          1\n",
       "5915  Had your contract mobile 11 Mnths? Latest Moto...          1\n",
       "5916  REMINDER FROM O2: To get 2.50 pounds free call...          1\n",
       "5917  This is the 2nd time we have tried 2 contact u...          1\n",
       "\n",
       "[5918 rows x 2 columns]"
      ]
     },
     "execution_count": 15,
     "metadata": {},
     "output_type": "execute_result"
    }
   ],
   "source": [
    "df"
   ]
  },
  {
   "cell_type": "code",
   "execution_count": 16,
   "metadata": {},
   "outputs": [],
   "source": [
    "stop_words = set(stopwords.words('english')) \n",
    "\n",
    "df['text'] = df['text'].apply(lambda x: ' '.join([ word for word in word_tokenize(x)  if not word in stop_words ]))"
   ]
  },
  {
   "cell_type": "markdown",
   "metadata": {},
   "source": [
    "### Spam vs Ham countplot"
   ]
  },
  {
   "cell_type": "code",
   "execution_count": 17,
   "metadata": {
    "scrolled": true
   },
   "outputs": [
    {
     "name": "stderr",
     "output_type": "stream",
     "text": [
      "/Users/ada/opt/anaconda3/lib/python3.8/site-packages/seaborn/_decorators.py:36: FutureWarning: Pass the following variable as a keyword arg: x. From version 0.12, the only valid positional argument will be `data`, and passing other arguments without an explicit keyword will result in an error or misinterpretation.\n",
      "  warnings.warn(\n"
     ]
    },
    {
     "data": {
      "text/plain": [
       "<AxesSubplot:xlabel='label_num', ylabel='count'>"
      ]
     },
     "execution_count": 17,
     "metadata": {},
     "output_type": "execute_result"
    },
    {
     "data": {
      "image/png": "[encoded data removed]",
      "text/plain": [
       "<Figure size 432x288 with 1 Axes>"
      ]
     },
     "metadata": {
      "needs_background": "light"
     },
     "output_type": "display_data"
    }
   ],
   "source": [
    "sns.countplot(df['label_num'])"
   ]
  },
  {
   "cell_type": "code",
   "execution_count": 18,
   "metadata": {},
   "outputs": [],
   "source": [
    "X = df[\"text\"].values\n",
    "y = df[\"label_num\"].values"
   ]
  },
  {
   "cell_type": "code",
   "execution_count": 19,
   "metadata": {},
   "outputs": [],
   "source": [
    "from sklearn.model_selection import train_test_split\n",
    "X_train, X_test, y_train, y_test = train_test_split(X, y, test_size=0.30, random_state=11)"
   ]
  },
  {
   "cell_type": "code",
   "execution_count": 20,
   "metadata": {},
   "outputs": [],
   "source": [
    "from sklearn.feature_extraction.text import CountVectorizer\n",
    "cv = CountVectorizer()\n",
    "cv_trans = cv.fit_transform(X_train).toarray()\n"
   ]
  },
  {
   "cell_type": "code",
   "execution_count": 21,
   "metadata": {},
   "outputs": [],
   "source": [
    "from sklearn.feature_extraction.text import TfidfVectorizer\n",
    "tf = TfidfVectorizer()\n",
    "tf_trans = tf.fit_transform(X_train).toarray()"
   ]
  },
  {
   "cell_type": "markdown",
   "metadata": {},
   "source": [
    "# <b><i>Logistic Regression</i></b>\n"
   ]
  },
  {
   "cell_type": "code",
   "execution_count": 22,
   "metadata": {},
   "outputs": [
    {
     "name": "stdout",
     "output_type": "stream",
     "text": [
      "Fitting 5 folds for each of 4 candidates, totalling 20 fits\n",
      "[CV] C=1.0, penalty=l2, solver=lbfgs .................................\n"
     ]
    },
    {
     "name": "stderr",
     "output_type": "stream",
     "text": [
      "[Parallel(n_jobs=1)]: Using backend SequentialBackend with 1 concurrent workers.\n"
     ]
    },
    {
     "name": "stdout",
     "output_type": "stream",
     "text": [
      "[CV] ..... C=1.0, penalty=l2, solver=lbfgs, score=0.972, total=   9.9s\n",
      "[CV] C=1.0, penalty=l2, solver=lbfgs .................................\n"
     ]
    },
    {
     "name": "stderr",
     "output_type": "stream",
     "text": [
      "[Parallel(n_jobs=1)]: Done   1 out of   1 | elapsed:   10.0s remaining:    0.0s\n"
     ]
    },
    {
     "name": "stdout",
     "output_type": "stream",
     "text": [
      "[CV] ..... C=1.0, penalty=l2, solver=lbfgs, score=0.979, total=   9.3s\n",
      "[CV] C=1.0, penalty=l2, solver=lbfgs .................................\n"
     ]
    },
    {
     "name": "stderr",
     "output_type": "stream",
     "text": [
      "[Parallel(n_jobs=1)]: Done   2 out of   2 | elapsed:   19.4s remaining:    0.0s\n"
     ]
    },
    {
     "name": "stdout",
     "output_type": "stream",
     "text": [
      "[CV] ..... C=1.0, penalty=l2, solver=lbfgs, score=0.971, total=   8.3s\n",
      "[CV] C=1.0, penalty=l2, solver=lbfgs .................................\n"
     ]
    },
    {
     "name": "stderr",
     "output_type": "stream",
     "text": [
      "[Parallel(n_jobs=1)]: Done   3 out of   3 | elapsed:   27.8s remaining:    0.0s\n"
     ]
    },
    {
     "name": "stdout",
     "output_type": "stream",
     "text": [
      "[CV] ..... C=1.0, penalty=l2, solver=lbfgs, score=0.981, total=   8.0s\n",
      "[CV] C=1.0, penalty=l2, solver=lbfgs .................................\n",
      "[CV] ..... C=1.0, penalty=l2, solver=lbfgs, score=0.982, total=   7.8s\n",
      "[CV] C=1.0, penalty=l2, solver=liblinear .............................\n",
      "[CV] . C=1.0, penalty=l2, solver=liblinear, score=0.973, total=   4.2s\n",
      "[CV] C=1.0, penalty=l2, solver=liblinear .............................\n",
      "[CV] . C=1.0, penalty=l2, solver=liblinear, score=0.979, total=   4.4s\n",
      "[CV] C=1.0, penalty=l2, solver=liblinear .............................\n",
      "[CV] . C=1.0, penalty=l2, solver=liblinear, score=0.971, total=   3.5s\n",
      "[CV] C=1.0, penalty=l2, solver=liblinear .............................\n",
      "[CV] . C=1.0, penalty=l2, solver=liblinear, score=0.979, total=   2.7s\n",
      "[CV] C=1.0, penalty=l2, solver=liblinear .............................\n",
      "[CV] . C=1.0, penalty=l2, solver=liblinear, score=0.982, total=   2.9s\n",
      "[CV] C=2.0, penalty=l2, solver=lbfgs .................................\n",
      "[CV] ..... C=2.0, penalty=l2, solver=lbfgs, score=0.973, total=   8.6s\n",
      "[CV] C=2.0, penalty=l2, solver=lbfgs .................................\n",
      "[CV] ..... C=2.0, penalty=l2, solver=lbfgs, score=0.981, total=   7.9s\n",
      "[CV] C=2.0, penalty=l2, solver=lbfgs .................................\n",
      "[CV] ..... C=2.0, penalty=l2, solver=lbfgs, score=0.971, total=   8.0s\n",
      "[CV] C=2.0, penalty=l2, solver=lbfgs .................................\n",
      "[CV] ..... C=2.0, penalty=l2, solver=lbfgs, score=0.979, total=   7.9s\n",
      "[CV] C=2.0, penalty=l2, solver=lbfgs .................................\n",
      "[CV] ..... C=2.0, penalty=l2, solver=lbfgs, score=0.979, total=   7.4s\n",
      "[CV] C=2.0, penalty=l2, solver=liblinear .............................\n",
      "[CV] . C=2.0, penalty=l2, solver=liblinear, score=0.975, total=   3.1s\n",
      "[CV] C=2.0, penalty=l2, solver=liblinear .............................\n",
      "[CV] . C=2.0, penalty=l2, solver=liblinear, score=0.979, total=   2.7s\n",
      "[CV] C=2.0, penalty=l2, solver=liblinear .............................\n",
      "[CV] . C=2.0, penalty=l2, solver=liblinear, score=0.971, total=   2.5s\n",
      "[CV] C=2.0, penalty=l2, solver=liblinear .............................\n",
      "[CV] . C=2.0, penalty=l2, solver=liblinear, score=0.981, total=   2.6s\n",
      "[CV] C=2.0, penalty=l2, solver=liblinear .............................\n",
      "[CV] . C=2.0, penalty=l2, solver=liblinear, score=0.982, total=   2.4s\n"
     ]
    },
    {
     "name": "stderr",
     "output_type": "stream",
     "text": [
      "[Parallel(n_jobs=1)]: Done  20 out of  20 | elapsed:  1.9min finished\n"
     ]
    },
    {
     "data": {
      "text/plain": [
       "GridSearchCV(estimator=LogisticRegression(),\n",
       "             param_grid={'C': [1.0, 2.0], 'penalty': ['l2'],\n",
       "                         'solver': ['lbfgs', 'liblinear']},\n",
       "             verbose=4)"
      ]
     },
     "execution_count": 22,
     "metadata": {},
     "output_type": "execute_result"
    }
   ],
   "source": [
    "from sklearn.linear_model import LogisticRegression\n",
    "from sklearn.model_selection import GridSearchCV\n",
    "lr = LogisticRegression()\n",
    "grid={\"C\":[float(i) for i in range(1, 3)], \"penalty\":[\"l2\"], \"solver\":[ 'lbfgs', 'liblinear']} \n",
    "grid = GridSearchCV(lr,grid,refit=True,verbose=4)\n",
    "grid.fit(cv_trans,y_train)"
   ]
  },
  {
   "cell_type": "code",
   "execution_count": 23,
   "metadata": {},
   "outputs": [
    {
     "name": "stdout",
     "output_type": "stream",
     "text": [
      "Tuned Hpyerparameters : {'C': 2.0, 'penalty': 'l2', 'solver': 'liblinear'}\n",
      "accuracy : 0.9775473039515626\n"
     ]
    }
   ],
   "source": [
    "print(\"Tuned Hpyerparameters :\",grid.best_params_)\n",
    "print(\"accuracy :\",grid.best_score_)"
   ]
  },
  {
   "cell_type": "code",
   "execution_count": 24,
   "metadata": {},
   "outputs": [
    {
     "data": {
      "text/plain": [
       "LogisticRegression(C=2.0)"
      ]
     },
     "execution_count": 24,
     "metadata": {},
     "output_type": "execute_result"
    }
   ],
   "source": [
    "lr = LogisticRegression(solver='lbfgs', penalty ='l2' , C = 2.0)\n",
    "lr.fit(cv_trans, y_train)"
   ]
  },
  {
   "cell_type": "code",
   "execution_count": 25,
   "metadata": {},
   "outputs": [],
   "source": [
    "test_cvtrans = cv.transform(X_test).toarray()\n"
   ]
  },
  {
   "cell_type": "code",
   "execution_count": 26,
   "metadata": {},
   "outputs": [],
   "source": [
    "pred = lr.predict(test_cvtrans)"
   ]
  },
  {
   "cell_type": "code",
   "execution_count": 27,
   "metadata": {},
   "outputs": [],
   "source": [
    "from sklearn.metrics import accuracy_score, classification_report, confusion_matrix"
   ]
  },
  {
   "cell_type": "markdown",
   "metadata": {},
   "source": [
    "### Logistic Regression evaluation CountVectorizer"
   ]
  },
  {
   "cell_type": "code",
   "execution_count": 28,
   "metadata": {
    "scrolled": true
   },
   "outputs": [
    {
     "name": "stdout",
     "output_type": "stream",
     "text": [
      "classification report:\n",
      "               precision    recall  f1-score   support\n",
      "\n",
      "           0       0.99      0.97      0.98      1096\n",
      "           1       0.95      0.99      0.97       680\n",
      "\n",
      "    accuracy                           0.98      1776\n",
      "   macro avg       0.97      0.98      0.97      1776\n",
      "weighted avg       0.98      0.98      0.98      1776\n",
      "\n",
      "confusion matrix:\n",
      " [[1058   38]\n",
      " [   6  674]]\n",
      "accuracy score:\n",
      " 0.9752252252252253\n"
     ]
    }
   ],
   "source": [
    "print(\"classification report:\\n\",classification_report(y_test, pred))\n",
    "print(\"confusion matrix:\\n\", confusion_matrix(y_test,pred))\n",
    "print(\"accuracy score:\\n\",accuracy_score(y_test, pred))"
   ]
  },
  {
   "cell_type": "code",
   "execution_count": 29,
   "metadata": {},
   "outputs": [],
   "source": [
    "lr_2 = LogisticRegression(solver='lbfgs', penalty ='l2' , C = 2.0)\n",
    "lr_2.fit(tf_trans, y_train)\n",
    "test_tftrans = tf.transform(X_test).toarray()"
   ]
  },
  {
   "cell_type": "code",
   "execution_count": 30,
   "metadata": {},
   "outputs": [],
   "source": [
    "pred2 = lr_2.predict(test_tftrans)"
   ]
  },
  {
   "cell_type": "markdown",
   "metadata": {},
   "source": [
    "### Logistic Regression evaluation TfidfVectorizer"
   ]
  },
  {
   "cell_type": "code",
   "execution_count": 31,
   "metadata": {},
   "outputs": [
    {
     "name": "stdout",
     "output_type": "stream",
     "text": [
      "classification report:\n",
      "               precision    recall  f1-score   support\n",
      "\n",
      "           0       1.00      0.97      0.98      1096\n",
      "           1       0.95      1.00      0.98       680\n",
      "\n",
      "    accuracy                           0.98      1776\n",
      "   macro avg       0.98      0.98      0.98      1776\n",
      "weighted avg       0.98      0.98      0.98      1776\n",
      "\n",
      "confusion matrix:\n",
      " [[1064   32]\n",
      " [   2  678]]\n",
      "accuracy score:\n",
      " 0.9808558558558559\n"
     ]
    }
   ],
   "source": [
    "print(\"classification report:\\n\",classification_report(y_test, pred2))\n",
    "print(\"confusion matrix:\\n\", confusion_matrix(y_test,pred2))\n",
    "print(\"accuracy score:\\n\",accuracy_score(y_test, pred2))"
   ]
  },
  {
   "cell_type": "markdown",
   "metadata": {},
   "source": [
    "# <b><i>SVC</i></b>"
   ]
  },
  {
   "cell_type": "code",
   "execution_count": 32,
   "metadata": {},
   "outputs": [],
   "source": [
    "from sklearn.svm import SVC\n",
    "svc_model = SVC()"
   ]
  },
  {
   "cell_type": "code",
   "execution_count": 33,
   "metadata": {},
   "outputs": [
    {
     "data": {
      "text/plain": [
       "SVC()"
      ]
     },
     "execution_count": 33,
     "metadata": {},
     "output_type": "execute_result"
    }
   ],
   "source": [
    "svc_model.fit(cv_trans,y_train)"
   ]
  },
  {
   "cell_type": "code",
   "execution_count": 34,
   "metadata": {},
   "outputs": [],
   "source": [
    "pred_svc = svc_model.predict(test_cvtrans)"
   ]
  },
  {
   "cell_type": "markdown",
   "metadata": {},
   "source": [
    "### SVC evaluation CountVectorizer"
   ]
  },
  {
   "cell_type": "code",
   "execution_count": 35,
   "metadata": {},
   "outputs": [
    {
     "name": "stdout",
     "output_type": "stream",
     "text": [
      "classification report:\n",
      "               precision    recall  f1-score   support\n",
      "\n",
      "           0       0.99      0.90      0.94      1096\n",
      "           1       0.86      0.98      0.92       680\n",
      "\n",
      "    accuracy                           0.93      1776\n",
      "   macro avg       0.92      0.94      0.93      1776\n",
      "weighted avg       0.94      0.93      0.93      1776\n",
      "\n",
      "confusion matrix:\n",
      " [[986 110]\n",
      " [ 11 669]]\n",
      "accuracy score:\n",
      " 0.9318693693693694\n"
     ]
    }
   ],
   "source": [
    "print(\"classification report:\\n\",classification_report(y_test, pred_svc))\n",
    "print(\"confusion matrix:\\n\", confusion_matrix(y_test,pred_svc))\n",
    "print(\"accuracy score:\\n\",accuracy_score(y_test, pred_svc))"
   ]
  },
  {
   "cell_type": "code",
   "execution_count": 36,
   "metadata": {},
   "outputs": [
    {
     "data": {
      "text/plain": [
       "SVC()"
      ]
     },
     "execution_count": 36,
     "metadata": {},
     "output_type": "execute_result"
    }
   ],
   "source": [
    "svc_model2 = SVC()\n",
    "svc_model2.fit(tf_trans, y_train)"
   ]
  },
  {
   "cell_type": "code",
   "execution_count": 37,
   "metadata": {},
   "outputs": [],
   "source": [
    "pred_svc2 = svc_model2.predict(test_tftrans)"
   ]
  },
  {
   "cell_type": "markdown",
   "metadata": {},
   "source": [
    "### SVC evaluation TfidfVectorizer"
   ]
  },
  {
   "cell_type": "code",
   "execution_count": 38,
   "metadata": {},
   "outputs": [
    {
     "name": "stdout",
     "output_type": "stream",
     "text": [
      "classification report:\n",
      "               precision    recall  f1-score   support\n",
      "\n",
      "           0       1.00      0.97      0.99      1096\n",
      "           1       0.96      1.00      0.98       680\n",
      "\n",
      "    accuracy                           0.98      1776\n",
      "   macro avg       0.98      0.99      0.98      1776\n",
      "weighted avg       0.98      0.98      0.98      1776\n",
      "\n",
      "confusion matrix:\n",
      " [[1068   28]\n",
      " [   2  678]]\n",
      "accuracy score:\n",
      " 0.9831081081081081\n"
     ]
    }
   ],
   "source": [
    "print(\"classification report:\\n\",classification_report(y_test, pred_svc2))\n",
    "print(\"confusion matrix:\\n\", confusion_matrix(y_test,pred_svc2))\n",
    "print(\"accuracy score:\\n\",accuracy_score(y_test, pred_svc2))"
   ]
  },
  {
   "cell_type": "markdown",
   "metadata": {},
   "source": [
    "# <b><i>Naive Bayes</i></b>"
   ]
  },
  {
   "cell_type": "code",
   "execution_count": 39,
   "metadata": {},
   "outputs": [
    {
     "data": {
      "text/plain": [
       "MultinomialNB()"
      ]
     },
     "execution_count": 39,
     "metadata": {},
     "output_type": "execute_result"
    }
   ],
   "source": [
    "from sklearn.naive_bayes import MultinomialNB\n",
    "nb = MultinomialNB()\n",
    "nb.fit(cv_trans, y_train)"
   ]
  },
  {
   "cell_type": "code",
   "execution_count": 40,
   "metadata": {},
   "outputs": [],
   "source": [
    "pred_nb = nb.predict(test_cvtrans)"
   ]
  },
  {
   "cell_type": "markdown",
   "metadata": {},
   "source": [
    "### Naive Bayes evaluation CountVectorizer"
   ]
  },
  {
   "cell_type": "code",
   "execution_count": 41,
   "metadata": {},
   "outputs": [
    {
     "name": "stdout",
     "output_type": "stream",
     "text": [
      "classification report:\n",
      "               precision    recall  f1-score   support\n",
      "\n",
      "           0       0.99      0.98      0.98      1096\n",
      "           1       0.97      0.98      0.97       680\n",
      "\n",
      "    accuracy                           0.98      1776\n",
      "   macro avg       0.98      0.98      0.98      1776\n",
      "weighted avg       0.98      0.98      0.98      1776\n",
      "\n",
      "confusion matrix:\n",
      " [[1074   22]\n",
      " [  16  664]]\n",
      "accuracy score:\n",
      " 0.9786036036036037\n"
     ]
    }
   ],
   "source": [
    "print(\"classification report:\\n\",classification_report(y_test, pred_nb))\n",
    "print(\"confusion matrix:\\n\", confusion_matrix(y_test,pred_nb))\n",
    "print(\"accuracy score:\\n\",accuracy_score(y_test, pred_nb))"
   ]
  },
  {
   "cell_type": "code",
   "execution_count": 42,
   "metadata": {},
   "outputs": [
    {
     "data": {
      "text/plain": [
       "MultinomialNB()"
      ]
     },
     "execution_count": 42,
     "metadata": {},
     "output_type": "execute_result"
    }
   ],
   "source": [
    "nb2 = MultinomialNB()\n",
    "nb2.fit(tf_trans, y_train)"
   ]
  },
  {
   "cell_type": "code",
   "execution_count": 43,
   "metadata": {},
   "outputs": [],
   "source": [
    "pred_nb2 = nb2.predict(test_tftrans)"
   ]
  },
  {
   "cell_type": "markdown",
   "metadata": {},
   "source": [
    "### Naive Bayes evaluation TfidfVectorizer"
   ]
  },
  {
   "cell_type": "code",
   "execution_count": 44,
   "metadata": {},
   "outputs": [
    {
     "name": "stdout",
     "output_type": "stream",
     "text": [
      "classification report:\n",
      "               precision    recall  f1-score   support\n",
      "\n",
      "           0       0.95      0.99      0.97      1096\n",
      "           1       0.99      0.91      0.95       680\n",
      "\n",
      "    accuracy                           0.96      1776\n",
      "   macro avg       0.97      0.95      0.96      1776\n",
      "weighted avg       0.96      0.96      0.96      1776\n",
      "\n",
      "confusion matrix:\n",
      " [[1090    6]\n",
      " [  59  621]]\n",
      "accuracy score:\n",
      " 0.9634009009009009\n"
     ]
    }
   ],
   "source": [
    "print(\"classification report:\\n\",classification_report(y_test, pred_nb2))\n",
    "print(\"confusion matrix:\\n\", confusion_matrix(y_test,pred_nb2))\n",
    "print(\"accuracy score:\\n\",accuracy_score(y_test, pred_nb2))"
   ]
  },
  {
   "cell_type": "markdown",
   "metadata": {},
   "source": [
    "# <b><i>Decision Tree</i></b>"
   ]
  },
  {
   "cell_type": "code",
   "execution_count": 45,
   "metadata": {},
   "outputs": [
    {
     "data": {
      "text/plain": [
       "DecisionTreeClassifier(criterion='entropy', random_state=0)"
      ]
     },
     "execution_count": 45,
     "metadata": {},
     "output_type": "execute_result"
    }
   ],
   "source": [
    "from sklearn.tree import DecisionTreeClassifier\n",
    "tree = DecisionTreeClassifier(criterion = 'entropy', random_state = 0)\n",
    "tree.fit(cv_trans, y_train)"
   ]
  },
  {
   "cell_type": "code",
   "execution_count": 46,
   "metadata": {},
   "outputs": [],
   "source": [
    "pred_tree = tree.predict(test_cvtrans)\n"
   ]
  },
  {
   "cell_type": "markdown",
   "metadata": {},
   "source": [
    "### Decision Tree evaluation CountVectorizer"
   ]
  },
  {
   "cell_type": "code",
   "execution_count": 47,
   "metadata": {},
   "outputs": [
    {
     "name": "stdout",
     "output_type": "stream",
     "text": [
      "classification report:\n",
      "               precision    recall  f1-score   support\n",
      "\n",
      "           0       0.95      0.96      0.95      1096\n",
      "           1       0.94      0.91      0.92       680\n",
      "\n",
      "    accuracy                           0.94      1776\n",
      "   macro avg       0.94      0.94      0.94      1776\n",
      "weighted avg       0.94      0.94      0.94      1776\n",
      "\n",
      "confusion matrix:\n",
      " [[1053   43]\n",
      " [  58  622]]\n",
      "accuracy score:\n",
      " 0.9431306306306306\n"
     ]
    }
   ],
   "source": [
    "print(\"classification report:\\n\",classification_report(y_test, pred_tree))\n",
    "print(\"confusion matrix:\\n\", confusion_matrix(y_test,pred_tree))\n",
    "print(\"accuracy score:\\n\",accuracy_score(y_test, pred_tree))"
   ]
  },
  {
   "cell_type": "code",
   "execution_count": 48,
   "metadata": {},
   "outputs": [
    {
     "data": {
      "text/plain": [
       "DecisionTreeClassifier(criterion='entropy', random_state=0)"
      ]
     },
     "execution_count": 48,
     "metadata": {},
     "output_type": "execute_result"
    }
   ],
   "source": [
    "tree2 = DecisionTreeClassifier(criterion = 'entropy', random_state = 0)\n",
    "tree2.fit(tf_trans, y_train)"
   ]
  },
  {
   "cell_type": "code",
   "execution_count": 49,
   "metadata": {},
   "outputs": [],
   "source": [
    "pred_tree2 = tree2.predict(test_tftrans)"
   ]
  },
  {
   "cell_type": "markdown",
   "metadata": {},
   "source": [
    "### Decision Tree evaluation TfidfVectorizer"
   ]
  },
  {
   "cell_type": "code",
   "execution_count": 50,
   "metadata": {},
   "outputs": [
    {
     "name": "stdout",
     "output_type": "stream",
     "text": [
      "classification report:\n",
      "               precision    recall  f1-score   support\n",
      "\n",
      "           0       0.95      0.95      0.95      1096\n",
      "           1       0.92      0.93      0.92       680\n",
      "\n",
      "    accuracy                           0.94      1776\n",
      "   macro avg       0.94      0.94      0.94      1776\n",
      "weighted avg       0.94      0.94      0.94      1776\n",
      "\n",
      "confusion matrix:\n",
      " [[1039   57]\n",
      " [  51  629]]\n",
      "accuracy score:\n",
      " 0.9391891891891891\n"
     ]
    }
   ],
   "source": [
    "print(\"classification report:\\n\",classification_report(y_test, pred_tree2))\n",
    "print(\"confusion matrix:\\n\", confusion_matrix(y_test,pred_tree2))\n",
    "print(\"accuracy score:\\n\",accuracy_score(y_test, pred_tree2))"
   ]
  },
  {
   "cell_type": "markdown",
   "metadata": {},
   "source": [
    "# <b><i>Random Forest</i></b>"
   ]
  },
  {
   "cell_type": "code",
   "execution_count": 51,
   "metadata": {},
   "outputs": [
    {
     "data": {
      "text/plain": [
       "RandomForestClassifier(criterion='entropy', n_estimators=10, random_state=0)"
      ]
     },
     "execution_count": 51,
     "metadata": {},
     "output_type": "execute_result"
    }
   ],
   "source": [
    "from sklearn.ensemble import RandomForestClassifier\n",
    "forest = RandomForestClassifier(n_estimators = 10, criterion = 'entropy', random_state = 0)\n",
    "forest.fit(cv_trans, y_train)"
   ]
  },
  {
   "cell_type": "code",
   "execution_count": 52,
   "metadata": {},
   "outputs": [],
   "source": [
    "pred_forest = forest.predict(test_cvtrans)"
   ]
  },
  {
   "cell_type": "markdown",
   "metadata": {},
   "source": [
    "### Random Forest evaluation CountVectorizer"
   ]
  },
  {
   "cell_type": "code",
   "execution_count": 53,
   "metadata": {},
   "outputs": [
    {
     "name": "stdout",
     "output_type": "stream",
     "text": [
      "classification report:\n",
      "               precision    recall  f1-score   support\n",
      "\n",
      "           0       0.96      0.97      0.97      1096\n",
      "           1       0.95      0.94      0.94       680\n",
      "\n",
      "    accuracy                           0.96      1776\n",
      "   macro avg       0.96      0.95      0.95      1776\n",
      "weighted avg       0.96      0.96      0.96      1776\n",
      "\n",
      "confusion matrix:\n",
      " [[1064   32]\n",
      " [  44  636]]\n",
      "accuracy score:\n",
      " 0.9572072072072072\n"
     ]
    }
   ],
   "source": [
    "print(\"classification report:\\n\",classification_report(y_test, pred_forest))\n",
    "print(\"confusion matrix:\\n\", confusion_matrix(y_test,pred_forest))\n",
    "print(\"accuracy score:\\n\",accuracy_score(y_test, pred_forest))"
   ]
  },
  {
   "cell_type": "code",
   "execution_count": 54,
   "metadata": {},
   "outputs": [
    {
     "data": {
      "text/plain": [
       "RandomForestClassifier(criterion='entropy', n_estimators=10, random_state=0)"
      ]
     },
     "execution_count": 54,
     "metadata": {},
     "output_type": "execute_result"
    }
   ],
   "source": [
    "forest2 = RandomForestClassifier(n_estimators = 10, criterion = 'entropy', random_state = 0)\n",
    "forest2.fit(tf_trans, y_train)"
   ]
  },
  {
   "cell_type": "code",
   "execution_count": 55,
   "metadata": {},
   "outputs": [],
   "source": [
    "pred_forest2 = forest2.predict(test_tftrans)"
   ]
  },
  {
   "cell_type": "markdown",
   "metadata": {},
   "source": [
    "### Random Forest evaluation TfidfVectorizer"
   ]
  },
  {
   "cell_type": "code",
   "execution_count": 56,
   "metadata": {},
   "outputs": [
    {
     "name": "stdout",
     "output_type": "stream",
     "text": [
      "classification report:\n",
      "               precision    recall  f1-score   support\n",
      "\n",
      "           0       0.96      0.97      0.96      1096\n",
      "           1       0.94      0.94      0.94       680\n",
      "\n",
      "    accuracy                           0.96      1776\n",
      "   macro avg       0.95      0.95      0.95      1776\n",
      "weighted avg       0.96      0.96      0.96      1776\n",
      "\n",
      "confusion matrix:\n",
      " [[1058   38]\n",
      " [  41  639]]\n",
      "accuracy score:\n",
      " 0.9555180180180181\n"
     ]
    }
   ],
   "source": [
    "print(\"classification report:\\n\",classification_report(y_test, pred_forest2))\n",
    "print(\"confusion matrix:\\n\", confusion_matrix(y_test,pred_forest2))\n",
    "print(\"accuracy score:\\n\",accuracy_score(y_test, pred_forest2))"
   ]
  }
 ],
 "metadata": {
  "kernelspec": {
   "display_name": "Python 3",
   "language": "python",
   "name": "python3"
  },
  "language_info": {
   "codemirror_mode": {
    "name": "ipython",
    "version": 3
   },
   "file_extension": ".py",
   "mimetype": "text/x-python",
   "name": "python",
   "nbconvert_exporter": "python",
   "pygments_lexer": "ipython3",
   "version": "3.8.5"
  }
 },
 "nbformat": 4,
 "nbformat_minor": 4
}
